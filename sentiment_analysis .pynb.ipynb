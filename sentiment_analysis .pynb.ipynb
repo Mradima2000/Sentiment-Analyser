{
  "nbformat": 4,
  "nbformat_minor": 0,
  "metadata": {
    "colab": {
      "name": "sentiment analysis",
      "provenance": [],
      "collapsed_sections": [],
      "toc_visible": true
    },
    "kernelspec": {
      "name": "python3",
      "display_name": "Python 3"
    }
  },
  "cells": [
    {
      "cell_type": "code",
      "metadata": {
        "id": "ikiDaCTc-J_c",
        "outputId": "c0860740-90d0-4e4a-85c2-7f0633714d0e",
        "colab": {
          "base_uri": "https://localhost:8080/",
          "height": 373
        }
      },
      "source": [
        "!wget \"https://www.dropbox.com/s/c6lmwqz67kpdsiq/review_dataset.csv\""
      ],
      "execution_count": 1,
      "outputs": [
        {
          "output_type": "stream",
          "text": [
            "--2020-10-11 07:30:54--  https://www.dropbox.com/s/c6lmwqz67kpdsiq/review_dataset.csv\n",
            "Resolving www.dropbox.com (www.dropbox.com)... 162.125.82.1, 2620:100:6032:1::a27d:5201\n",
            "Connecting to www.dropbox.com (www.dropbox.com)|162.125.82.1|:443... connected.\n",
            "HTTP request sent, awaiting response... 301 Moved Permanently\n",
            "Location: /s/raw/c6lmwqz67kpdsiq/review_dataset.csv [following]\n",
            "--2020-10-11 07:30:55--  https://www.dropbox.com/s/raw/c6lmwqz67kpdsiq/review_dataset.csv\n",
            "Reusing existing connection to www.dropbox.com:443.\n",
            "HTTP request sent, awaiting response... 302 Found\n",
            "Location: https://uc1d9aa2ec2bbf034209b7463e93.dl.dropboxusercontent.com/cd/0/inline/BBCI4UdtdqgHiFk5Us6YGnH4PS68K_OkOhibyuv_0HKcW-o_XGjrxMbnM7adXZfxlKFF7_zOOhVP5yQy688Ck6XCqNQtAvGJ2w4zFOFewHPbhHpENeTAe1w3dHsqKG2hmoc/file# [following]\n",
            "--2020-10-11 07:30:55--  https://uc1d9aa2ec2bbf034209b7463e93.dl.dropboxusercontent.com/cd/0/inline/BBCI4UdtdqgHiFk5Us6YGnH4PS68K_OkOhibyuv_0HKcW-o_XGjrxMbnM7adXZfxlKFF7_zOOhVP5yQy688Ck6XCqNQtAvGJ2w4zFOFewHPbhHpENeTAe1w3dHsqKG2hmoc/file\n",
            "Resolving uc1d9aa2ec2bbf034209b7463e93.dl.dropboxusercontent.com (uc1d9aa2ec2bbf034209b7463e93.dl.dropboxusercontent.com)... 162.125.82.15, 2620:100:6032:15::a27d:520f\n",
            "Connecting to uc1d9aa2ec2bbf034209b7463e93.dl.dropboxusercontent.com (uc1d9aa2ec2bbf034209b7463e93.dl.dropboxusercontent.com)|162.125.82.15|:443... connected.\n",
            "HTTP request sent, awaiting response... 200 OK\n",
            "Length: 26332150 (25M) [text/plain]\n",
            "Saving to: ‘review_dataset.csv.2’\n",
            "\n",
            "review_dataset.csv. 100%[===================>]  25.11M  15.8MB/s    in 1.6s    \n",
            "\n",
            "2020-10-11 07:30:57 (15.8 MB/s) - ‘review_dataset.csv.2’ saved [26332150/26332150]\n",
            "\n"
          ],
          "name": "stdout"
        }
      ]
    },
    {
      "cell_type": "code",
      "metadata": {
        "id": "NazHb6rpSJYt"
      },
      "source": [
        "import pandas as pb\n",
        "import numpy as np"
      ],
      "execution_count": 2,
      "outputs": []
    },
    {
      "cell_type": "code",
      "metadata": {
        "id": "YYslnVA4Sa0j"
      },
      "source": [
        "df=pb.read_csv(\"review_dataset.csv\")"
      ],
      "execution_count": 3,
      "outputs": []
    },
    {
      "cell_type": "code",
      "metadata": {
        "id": "SXA2fe_LS5Rb",
        "outputId": "795a53c0-35f0-436b-828e-d9205e473b9e",
        "colab": {
          "base_uri": "https://localhost:8080/",
          "height": 402
        }
      },
      "source": [
        "df"
      ],
      "execution_count": 4,
      "outputs": [
        {
          "output_type": "execute_result",
          "data": {
            "text/html": [
              "<div>\n",
              "<style scoped>\n",
              "    .dataframe tbody tr th:only-of-type {\n",
              "        vertical-align: middle;\n",
              "    }\n",
              "\n",
              "    .dataframe tbody tr th {\n",
              "        vertical-align: top;\n",
              "    }\n",
              "\n",
              "    .dataframe thead th {\n",
              "        text-align: right;\n",
              "    }\n",
              "</style>\n",
              "<table border=\"1\" class=\"dataframe\">\n",
              "  <thead>\n",
              "    <tr style=\"text-align: right;\">\n",
              "      <th></th>\n",
              "      <th>review</th>\n",
              "      <th>label</th>\n",
              "    </tr>\n",
              "  </thead>\n",
              "  <tbody>\n",
              "    <tr>\n",
              "      <th>0</th>\n",
              "      <td>The Buddy Holly Story opens on a shot of a yel...</td>\n",
              "      <td>pos</td>\n",
              "    </tr>\n",
              "    <tr>\n",
              "      <th>1</th>\n",
              "      <td>***SPOILERS*** Like some evil Tinkers-to-Evers...</td>\n",
              "      <td>neg</td>\n",
              "    </tr>\n",
              "    <tr>\n",
              "      <th>2</th>\n",
              "      <td>Ghost of Dragstrip Hollow is a typical 1950's ...</td>\n",
              "      <td>neg</td>\n",
              "    </tr>\n",
              "    <tr>\n",
              "      <th>3</th>\n",
              "      <td>Whatever you do, don't stop watching when you ...</td>\n",
              "      <td>pos</td>\n",
              "    </tr>\n",
              "    <tr>\n",
              "      <th>4</th>\n",
              "      <td>This is one of those movies you think that the...</td>\n",
              "      <td>neg</td>\n",
              "    </tr>\n",
              "    <tr>\n",
              "      <th>...</th>\n",
              "      <td>...</td>\n",
              "      <td>...</td>\n",
              "    </tr>\n",
              "    <tr>\n",
              "      <th>19995</th>\n",
              "      <td>O boy, was this really bad.&lt;br /&gt;&lt;br /&gt;I saw t...</td>\n",
              "      <td>neg</td>\n",
              "    </tr>\n",
              "    <tr>\n",
              "      <th>19996</th>\n",
              "      <td>Larry Fessenden has been thrashed by most of t...</td>\n",
              "      <td>pos</td>\n",
              "    </tr>\n",
              "    <tr>\n",
              "      <th>19997</th>\n",
              "      <td>This may or may not be the worst movie that St...</td>\n",
              "      <td>neg</td>\n",
              "    </tr>\n",
              "    <tr>\n",
              "      <th>19998</th>\n",
              "      <td>I have no idea what these people were thinking...</td>\n",
              "      <td>neg</td>\n",
              "    </tr>\n",
              "    <tr>\n",
              "      <th>19999</th>\n",
              "      <td>\"The Groove Tube\" was initially shown on video...</td>\n",
              "      <td>pos</td>\n",
              "    </tr>\n",
              "  </tbody>\n",
              "</table>\n",
              "<p>20000 rows × 2 columns</p>\n",
              "</div>"
            ],
            "text/plain": [
              "                                                  review label\n",
              "0      The Buddy Holly Story opens on a shot of a yel...   pos\n",
              "1      ***SPOILERS*** Like some evil Tinkers-to-Evers...   neg\n",
              "2      Ghost of Dragstrip Hollow is a typical 1950's ...   neg\n",
              "3      Whatever you do, don't stop watching when you ...   pos\n",
              "4      This is one of those movies you think that the...   neg\n",
              "...                                                  ...   ...\n",
              "19995  O boy, was this really bad.<br /><br />I saw t...   neg\n",
              "19996  Larry Fessenden has been thrashed by most of t...   pos\n",
              "19997  This may or may not be the worst movie that St...   neg\n",
              "19998  I have no idea what these people were thinking...   neg\n",
              "19999  \"The Groove Tube\" was initially shown on video...   pos\n",
              "\n",
              "[20000 rows x 2 columns]"
            ]
          },
          "metadata": {
            "tags": []
          },
          "execution_count": 4
        }
      ]
    },
    {
      "cell_type": "code",
      "metadata": {
        "id": "VzSGW0yPTPUX",
        "outputId": "1345b9a6-4d07-4b59-8718-c6fa3f41b377",
        "colab": {
          "base_uri": "https://localhost:8080/",
          "height": 34
        }
      },
      "source": [
        "df.shape"
      ],
      "execution_count": 5,
      "outputs": [
        {
          "output_type": "execute_result",
          "data": {
            "text/plain": [
              "(20000, 2)"
            ]
          },
          "metadata": {
            "tags": []
          },
          "execution_count": 5
        }
      ]
    },
    {
      "cell_type": "code",
      "metadata": {
        "id": "NOTcM0zMTig1",
        "outputId": "0d0fa1ca-0d17-4d63-98d2-a7424c39ab6e",
        "colab": {
          "base_uri": "https://localhost:8080/",
          "height": 218
        }
      },
      "source": [
        "df['label']"
      ],
      "execution_count": 6,
      "outputs": [
        {
          "output_type": "execute_result",
          "data": {
            "text/plain": [
              "0        pos\n",
              "1        neg\n",
              "2        neg\n",
              "3        pos\n",
              "4        neg\n",
              "        ... \n",
              "19995    neg\n",
              "19996    pos\n",
              "19997    neg\n",
              "19998    neg\n",
              "19999    pos\n",
              "Name: label, Length: 20000, dtype: object"
            ]
          },
          "metadata": {
            "tags": []
          },
          "execution_count": 6
        }
      ]
    },
    {
      "cell_type": "code",
      "metadata": {
        "id": "zur_9MMgTqlT",
        "outputId": "c058b71a-bc4b-421f-de31-917c2583df81",
        "colab": {
          "base_uri": "https://localhost:8080/",
          "height": 1000
        }
      },
      "source": [
        "import re\n",
        "import nltk\n",
        "from nltk.corpus import stopwords\n",
        "\n",
        "nltk.download('stopwords')\n",
        "\n",
        "sw= stopwords.words('english')\n",
        "sw"
      ],
      "execution_count": 7,
      "outputs": [
        {
          "output_type": "stream",
          "text": [
            "[nltk_data] Downloading package stopwords to /root/nltk_data...\n",
            "[nltk_data]   Package stopwords is already up-to-date!\n"
          ],
          "name": "stdout"
        },
        {
          "output_type": "execute_result",
          "data": {
            "text/plain": [
              "['i',\n",
              " 'me',\n",
              " 'my',\n",
              " 'myself',\n",
              " 'we',\n",
              " 'our',\n",
              " 'ours',\n",
              " 'ourselves',\n",
              " 'you',\n",
              " \"you're\",\n",
              " \"you've\",\n",
              " \"you'll\",\n",
              " \"you'd\",\n",
              " 'your',\n",
              " 'yours',\n",
              " 'yourself',\n",
              " 'yourselves',\n",
              " 'he',\n",
              " 'him',\n",
              " 'his',\n",
              " 'himself',\n",
              " 'she',\n",
              " \"she's\",\n",
              " 'her',\n",
              " 'hers',\n",
              " 'herself',\n",
              " 'it',\n",
              " \"it's\",\n",
              " 'its',\n",
              " 'itself',\n",
              " 'they',\n",
              " 'them',\n",
              " 'their',\n",
              " 'theirs',\n",
              " 'themselves',\n",
              " 'what',\n",
              " 'which',\n",
              " 'who',\n",
              " 'whom',\n",
              " 'this',\n",
              " 'that',\n",
              " \"that'll\",\n",
              " 'these',\n",
              " 'those',\n",
              " 'am',\n",
              " 'is',\n",
              " 'are',\n",
              " 'was',\n",
              " 'were',\n",
              " 'be',\n",
              " 'been',\n",
              " 'being',\n",
              " 'have',\n",
              " 'has',\n",
              " 'had',\n",
              " 'having',\n",
              " 'do',\n",
              " 'does',\n",
              " 'did',\n",
              " 'doing',\n",
              " 'a',\n",
              " 'an',\n",
              " 'the',\n",
              " 'and',\n",
              " 'but',\n",
              " 'if',\n",
              " 'or',\n",
              " 'because',\n",
              " 'as',\n",
              " 'until',\n",
              " 'while',\n",
              " 'of',\n",
              " 'at',\n",
              " 'by',\n",
              " 'for',\n",
              " 'with',\n",
              " 'about',\n",
              " 'against',\n",
              " 'between',\n",
              " 'into',\n",
              " 'through',\n",
              " 'during',\n",
              " 'before',\n",
              " 'after',\n",
              " 'above',\n",
              " 'below',\n",
              " 'to',\n",
              " 'from',\n",
              " 'up',\n",
              " 'down',\n",
              " 'in',\n",
              " 'out',\n",
              " 'on',\n",
              " 'off',\n",
              " 'over',\n",
              " 'under',\n",
              " 'again',\n",
              " 'further',\n",
              " 'then',\n",
              " 'once',\n",
              " 'here',\n",
              " 'there',\n",
              " 'when',\n",
              " 'where',\n",
              " 'why',\n",
              " 'how',\n",
              " 'all',\n",
              " 'any',\n",
              " 'both',\n",
              " 'each',\n",
              " 'few',\n",
              " 'more',\n",
              " 'most',\n",
              " 'other',\n",
              " 'some',\n",
              " 'such',\n",
              " 'no',\n",
              " 'nor',\n",
              " 'not',\n",
              " 'only',\n",
              " 'own',\n",
              " 'same',\n",
              " 'so',\n",
              " 'than',\n",
              " 'too',\n",
              " 'very',\n",
              " 's',\n",
              " 't',\n",
              " 'can',\n",
              " 'will',\n",
              " 'just',\n",
              " 'don',\n",
              " \"don't\",\n",
              " 'should',\n",
              " \"should've\",\n",
              " 'now',\n",
              " 'd',\n",
              " 'll',\n",
              " 'm',\n",
              " 'o',\n",
              " 're',\n",
              " 've',\n",
              " 'y',\n",
              " 'ain',\n",
              " 'aren',\n",
              " \"aren't\",\n",
              " 'couldn',\n",
              " \"couldn't\",\n",
              " 'didn',\n",
              " \"didn't\",\n",
              " 'doesn',\n",
              " \"doesn't\",\n",
              " 'hadn',\n",
              " \"hadn't\",\n",
              " 'hasn',\n",
              " \"hasn't\",\n",
              " 'haven',\n",
              " \"haven't\",\n",
              " 'isn',\n",
              " \"isn't\",\n",
              " 'ma',\n",
              " 'mightn',\n",
              " \"mightn't\",\n",
              " 'mustn',\n",
              " \"mustn't\",\n",
              " 'needn',\n",
              " \"needn't\",\n",
              " 'shan',\n",
              " \"shan't\",\n",
              " 'shouldn',\n",
              " \"shouldn't\",\n",
              " 'wasn',\n",
              " \"wasn't\",\n",
              " 'weren',\n",
              " \"weren't\",\n",
              " 'won',\n",
              " \"won't\",\n",
              " 'wouldn',\n",
              " \"wouldn't\"]"
            ]
          },
          "metadata": {
            "tags": []
          },
          "execution_count": 7
        }
      ]
    },
    {
      "cell_type": "code",
      "metadata": {
        "id": "JzgjyFr1gr-M"
      },
      "source": [
        "# cleaning of data\n",
        "def clean_text(sample):\n",
        "  sample= sample.lower()\n",
        "  sample=sample.replace(\"<br /><br />\",\"\")\n",
        "  sample=re.sub(\"[^a-zA-Z]+\",\" \",sample)\n",
        "  sample=sample.split(\" \")\n",
        "  sample= [word for word in sample if word not in sw]\n",
        "  sample=\" \".join(sample)\n",
        "\n",
        "  return sample"
      ],
      "execution_count": 8,
      "outputs": []
    },
    {
      "cell_type": "code",
      "metadata": {
        "id": "ulUGP7cLhwWp",
        "outputId": "0c631857-b12e-439e-8241-191ee7e9765e",
        "colab": {
          "base_uri": "https://localhost:8080/",
          "height": 137
        }
      },
      "source": [
        "clean_text(df['review'][1])"
      ],
      "execution_count": 9,
      "outputs": [
        {
          "output_type": "execute_result",
          "data": {
            "application/vnd.google.colaboratory.intrinsic+json": {
              "type": "string"
            },
            "text/plain": [
              "' spoilers like evil tinkers evers chance double play combination omen iv evil seed deceased antichrist damien thorn come back terrorizing parents schoolmates neighbors finally entire world named delia york asia vieila given deserving couple yorks karen gene fay grant michael woods catholic church st francis orphanage little delia waste time making peasants felt scratching mom house party later delia almost get killed runaway truck saved devil dog named ryder going school delia takes care local bully getting big guy wet front classmates later father threatens yorks law suit head sliced self induced traffic accident delia someone never mess know good meanwhile dalia dad gene becomes big man town thinks getting elected congress champion clean air green trees crowd instead letting smog concrete boys take neighborhood eye white house bratty strange daughter delia anything gene york sudden good fortune later jo ann hearen hired delia nanny truth comes strange evil powers jo new age type realizes delia bit weird turning white crystals black calls new age guru noah jim byrnes come check noah upset sees delia kirilian color vibrations black blue little pinch red flips bad almost crashed delia moms car taken trip psychic festival jo delia turns entire event inferno setting place mental telepathy fire heaving everyone run cover including poor noah festival ended leg broken shaken battered guru shook whole experience later checked country become hermit tibetan wilderness jo later thrown help sweet cuddly family pet ryder second floor window death knew talked much karen pregnant decides finally find truth real parents delia audience come face face truth feared antichrist revelations twin sister brother antichrist come scene kid brother sill unborn alexander york three times enough antichrist coming back earth bring armageddon movie going public already getting little tired evil adventures fourth really necessary since daimen thorn original antichrist dead buried years put usual ringer one believing little delia thee antichrist almost late stop deadly rounds destroying entire human race movie bad also far long minutes horror flick could well told story little minutes private eye earl knight mchael learner later former catholic nun sister yvonne megan lehch faith healer felichy film killed help plot either prolonged suffering us watching movie could see surprise ending coming almost soon film omen iv began bases cleared delia eventual takeover civilized well uncivilized world bit surprise delia little help friends '"
            ]
          },
          "metadata": {
            "tags": []
          },
          "execution_count": 9
        }
      ]
    },
    {
      "cell_type": "code",
      "metadata": {
        "id": "9rzpVXCTiLcU"
      },
      "source": [
        "df['review']= df['review'].apply(clean_text)"
      ],
      "execution_count": 10,
      "outputs": []
    },
    {
      "cell_type": "code",
      "metadata": {
        "id": "o-eunbhdk8Bx",
        "outputId": "d5847ffb-8041-43ff-8bc4-0cb6e2772a43",
        "colab": {
          "base_uri": "https://localhost:8080/",
          "height": 218
        }
      },
      "source": [
        "df['review']"
      ],
      "execution_count": 11,
      "outputs": [
        {
          "output_type": "execute_result",
          "data": {
            "text/plain": [
              "0        buddy holly story opens shot yellow neon moon ...\n",
              "1         spoilers like evil tinkers evers chance doubl...\n",
              "2        ghost dragstrip hollow typical teens turmoil m...\n",
              "3        whatever stop watching think movie hang around...\n",
              "4        one movies think makers would refuse release t...\n",
              "                               ...                        \n",
              "19995    boy really bad saw videotape scenes soundtrack...\n",
              "19996    larry fessenden thrashed comments forum well w...\n",
              "19997    may may worst movie steve martin ever made cer...\n",
              "19998    idea people thinking made film plot limited ac...\n",
              "19999     groove tube initially shown video first video...\n",
              "Name: review, Length: 20000, dtype: object"
            ]
          },
          "metadata": {
            "tags": []
          },
          "execution_count": 11
        }
      ]
    },
    {
      "cell_type": "code",
      "metadata": {
        "id": "hpds3GE6lAHP"
      },
      "source": [
        "X=df['review'].values\n",
        "Y=df['label'].values"
      ],
      "execution_count": 12,
      "outputs": []
    },
    {
      "cell_type": "code",
      "metadata": {
        "id": "zVHscGiwlslo"
      },
      "source": [
        "X_train= X[0:15000]\n",
        "X_test= X[15000:20000]\n",
        "\n",
        "Y_train=Y[0:15000]\n",
        "Y_test=Y[15000:20000]"
      ],
      "execution_count": 13,
      "outputs": []
    },
    {
      "cell_type": "code",
      "metadata": {
        "id": "KJ5Y-t2cYw6O",
        "outputId": "c6c6725d-4d46-467d-e277-7eabbc9e0d0f",
        "colab": {
          "base_uri": "https://localhost:8080/",
          "height": 34
        }
      },
      "source": [
        "# another library for converting pos/neg to 1/0\n",
        "from sklearn.preprocessing import LabelEncoder\n",
        "\n",
        "le= LabelEncoder()\n",
        "le.fit(Y_train)"
      ],
      "execution_count": 14,
      "outputs": [
        {
          "output_type": "execute_result",
          "data": {
            "text/plain": [
              "LabelEncoder()"
            ]
          },
          "metadata": {
            "tags": []
          },
          "execution_count": 14
        }
      ]
    },
    {
      "cell_type": "code",
      "metadata": {
        "id": "tN-_ox43Zuaq"
      },
      "source": [
        "\n",
        "Y_train= le.transform(Y_train)\n",
        "Y_test= le.transform(Y_test)  "
      ],
      "execution_count": 15,
      "outputs": []
    },
    {
      "cell_type": "code",
      "metadata": {
        "id": "XlFQwl8-gFxG"
      },
      "source": [
        "#  bag of word model\n",
        "from sklearn.feature_extraction.text import CountVectorizer\n",
        "\n",
        "cv=CountVectorizer()"
      ],
      "execution_count": 16,
      "outputs": []
    },
    {
      "cell_type": "code",
      "metadata": {
        "id": "niAVOyJyiRBm",
        "outputId": "517836a6-c5c1-441c-8a7e-0ef729deaf90",
        "colab": {
          "base_uri": "https://localhost:8080/",
          "height": 118
        }
      },
      "source": [
        "cv.fit(X_train)"
      ],
      "execution_count": 17,
      "outputs": [
        {
          "output_type": "execute_result",
          "data": {
            "text/plain": [
              "CountVectorizer(analyzer='word', binary=False, decode_error='strict',\n",
              "                dtype=<class 'numpy.int64'>, encoding='utf-8', input='content',\n",
              "                lowercase=True, max_df=1.0, max_features=None, min_df=1,\n",
              "                ngram_range=(1, 1), preprocessor=None, stop_words=None,\n",
              "                strip_accents=None, token_pattern='(?u)\\\\b\\\\w\\\\w+\\\\b',\n",
              "                tokenizer=None, vocabulary=None)"
            ]
          },
          "metadata": {
            "tags": []
          },
          "execution_count": 17
        }
      ]
    },
    {
      "cell_type": "code",
      "metadata": {
        "id": "evXn5cloieFk"
      },
      "source": [
        "X_train=cv.transform(X_train).toarray()"
      ],
      "execution_count": 18,
      "outputs": []
    },
    {
      "cell_type": "code",
      "metadata": {
        "id": "0VYRyKG2kHLP",
        "outputId": "3111c88f-c780-4859-f5a6-556d0cc33029",
        "colab": {
          "base_uri": "https://localhost:8080/",
          "height": 34
        }
      },
      "source": [
        "X_train.shape"
      ],
      "execution_count": 19,
      "outputs": [
        {
          "output_type": "execute_result",
          "data": {
            "text/plain": [
              "(15000, 61533)"
            ]
          },
          "metadata": {
            "tags": []
          },
          "execution_count": 19
        }
      ]
    },
    {
      "cell_type": "code",
      "metadata": {
        "id": "Pr_ZJeVCk4_u"
      },
      "source": [
        "X_test= cv.transform(X_test).toarray()"
      ],
      "execution_count": 20,
      "outputs": []
    },
    {
      "cell_type": "markdown",
      "metadata": {
        "id": "TTCqVjOtmSxT"
      },
      "source": [
        "MODEL TRAINING"
      ]
    },
    {
      "cell_type": "code",
      "metadata": {
        "id": "JviUrO2IlEYx"
      },
      "source": [
        "from sklearn.naive_bayes import MultinomialNB\n",
        "mnb= MultinomialNB()"
      ],
      "execution_count": 21,
      "outputs": []
    },
    {
      "cell_type": "code",
      "metadata": {
        "id": "Opd-OSM3mqz2",
        "outputId": "7b495bf9-8745-4069-b6d5-4d6a2342a0a0",
        "colab": {
          "base_uri": "https://localhost:8080/",
          "height": 34
        }
      },
      "source": [
        "#training\n",
        "mnb.fit(X_train,Y_train)"
      ],
      "execution_count": 22,
      "outputs": [
        {
          "output_type": "execute_result",
          "data": {
            "text/plain": [
              "MultinomialNB(alpha=1.0, class_prior=None, fit_prior=True)"
            ]
          },
          "metadata": {
            "tags": []
          },
          "execution_count": 22
        }
      ]
    },
    {
      "cell_type": "code",
      "metadata": {
        "id": "eDEL6KJqm5qe",
        "outputId": "af8ed9cc-35ba-487d-cd9f-479efa0cf848",
        "colab": {
          "base_uri": "https://localhost:8080/",
          "height": 34
        }
      },
      "source": [
        "mnb.predict(X_test)"
      ],
      "execution_count": 23,
      "outputs": [
        {
          "output_type": "execute_result",
          "data": {
            "text/plain": [
              "array([0, 0, 0, ..., 0, 0, 0])"
            ]
          },
          "metadata": {
            "tags": []
          },
          "execution_count": 23
        }
      ]
    },
    {
      "cell_type": "code",
      "metadata": {
        "id": "j0q_-AgbnJRy",
        "outputId": "59a6ec5c-fb79-4b89-940a-576757c906d2",
        "colab": {
          "base_uri": "https://localhost:8080/",
          "height": 34
        }
      },
      "source": [
        "mnb.score(X_test,Y_test)"
      ],
      "execution_count": 24,
      "outputs": [
        {
          "output_type": "execute_result",
          "data": {
            "text/plain": [
              "0.8458"
            ]
          },
          "metadata": {
            "tags": []
          },
          "execution_count": 24
        }
      ]
    },
    {
      "cell_type": "markdown",
      "metadata": {
        "id": "uBoT70B0nU2i"
      },
      "source": [
        "Predict for one sentence"
      ]
    },
    {
      "cell_type": "code",
      "metadata": {
        "id": "fhRDDHKfnR-B"
      },
      "source": [
        "my_review= \"movie was great. I enjoyed watching....\""
      ],
      "execution_count": 25,
      "outputs": []
    },
    {
      "cell_type": "code",
      "metadata": {
        "id": "RckHhv0FnmoN"
      },
      "source": [
        "my_review=clean_text(my_review)"
      ],
      "execution_count": 26,
      "outputs": []
    },
    {
      "cell_type": "code",
      "metadata": {
        "id": "2HCQIGstnuRb"
      },
      "source": [
        "my_review= cv.transform([my_review])"
      ],
      "execution_count": 27,
      "outputs": []
    },
    {
      "cell_type": "code",
      "metadata": {
        "id": "mnrrzWnon5he",
        "outputId": "c262d84d-93fd-406f-bf02-926fa0a0f508",
        "colab": {
          "base_uri": "https://localhost:8080/",
          "height": 34
        }
      },
      "source": [
        "mnb.predict(my_review)"
      ],
      "execution_count": 28,
      "outputs": [
        {
          "output_type": "execute_result",
          "data": {
            "text/plain": [
              "array([1])"
            ]
          },
          "metadata": {
            "tags": []
          },
          "execution_count": 28
        }
      ]
    },
    {
      "cell_type": "code",
      "metadata": {
        "id": "feQQgx-Ln_6N"
      },
      "source": [
        ""
      ],
      "execution_count": null,
      "outputs": []
    }
  ]
}